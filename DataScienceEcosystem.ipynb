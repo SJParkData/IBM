{
 "cells": [
  {
   "cell_type": "markdown",
   "id": "f3347e91-5e64-4447-aff8-262980001fa1",
   "metadata": {},
   "source": [
    "# Data Science Tools and Ecosystem"
   ]
  },
  {
   "cell_type": "markdown",
   "id": "a4d0faf1-11e5-44dd-8fc6-5c065f93cbb9",
   "metadata": {},
   "source": [
    "* In this notebook, Data Science Tools and Ecosystem are summarized."
   ]
  },
  {
   "cell_type": "markdown",
   "id": "f6da7c09-66cf-40af-9e58-e9a92192c174",
   "metadata": {},
   "source": [
    "Some of the popular languages that Data Scientists use are:\n",
    "1. Python\n",
    "2. R statistical language\n",
    "3. Julia"
   ]
  },
  {
   "cell_type": "markdown",
   "id": "b54cc80d-8571-4a18-bf87-dd61bc44eb35",
   "metadata": {},
   "source": [
    "Some of the commonly used libraries used by Data Scientists include:\n",
    "1. Pandas\n",
    "2. NumPy\n",
    "3. Matplotlib"
   ]
  },
  {
   "cell_type": "markdown",
   "id": "e64bea25-c0e8-4f61-a127-ff9a2b601235",
   "metadata": {},
   "source": [
    "| Data Science Tools |\n",
    "| -| \n",
    "|SAS| \n",
    "|BigML| \n",
    "|Apache Spark| "
   ]
  },
  {
   "cell_type": "markdown",
   "id": "bcc6ccf1-a4c2-4bdc-8983-e5f478a44ad4",
   "metadata": {},
   "source": [
    "### Below are a few examples of evaluating arithmetic expressions in Python"
   ]
  },
  {
   "cell_type": "code",
   "execution_count": 2,
   "id": "477f71f3-4333-473b-abb7-f5bc6621ba11",
   "metadata": {},
   "outputs": [
    {
     "data": {
      "text/plain": [
       "17"
      ]
     },
     "execution_count": 2,
     "metadata": {},
     "output_type": "execute_result"
    }
   ],
   "source": [
    "# This a simple arithmetic expression to mutiply then add integers\n",
    "(3*4)+5\n"
   ]
  },
  {
   "cell_type": "code",
   "execution_count": 3,
   "id": "d885a0d6-f467-4e64-b8e0-268f5a4c9e7d",
   "metadata": {},
   "outputs": [
    {
     "data": {
      "text/plain": [
       "3.3333333333333335"
      ]
     },
     "execution_count": 3,
     "metadata": {},
     "output_type": "execute_result"
    }
   ],
   "source": [
    "# This will convert 200 minutes to hours by diving by 60\n",
    "200/60"
   ]
  },
  {
   "cell_type": "markdown",
   "id": "9b378865-fcb2-4c3b-92dd-a95e1a6b931d",
   "metadata": {},
   "source": [
    "### Objectives\n",
    "\n",
    "* Create a Jupyter Notebook with markdown and code cells\r",
    "* \n",
    "List examples of languages, libraries and tools used in Data Scienc\n",
    "* Share your Jupyter Notebook publicly on GitHubeedge"
   ]
  },
  {
   "cell_type": "markdown",
   "id": "fe9dd1c1-b754-4e42-981d-d07a011036e6",
   "metadata": {},
   "source": [
    "## Author\n",
    "Seong Jun Park"
   ]
  },
  {
   "cell_type": "code",
   "execution_count": null,
   "id": "8c31d9d1-7582-40ae-b78f-ae50a3a6a6db",
   "metadata": {},
   "outputs": [],
   "source": []
  }
 ],
 "metadata": {
  "kernelspec": {
   "display_name": "Python 3 (ipykernel)",
   "language": "python",
   "name": "python3"
  },
  "language_info": {
   "codemirror_mode": {
    "name": "ipython",
    "version": 3
   },
   "file_extension": ".py",
   "mimetype": "text/x-python",
   "name": "python",
   "nbconvert_exporter": "python",
   "pygments_lexer": "ipython3",
   "version": "3.11.7"
  }
 },
 "nbformat": 4,
 "nbformat_minor": 5
}
